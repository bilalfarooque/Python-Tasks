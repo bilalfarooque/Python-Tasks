{
 "cells": [
  {
   "cell_type": "code",
   "execution_count": 2,
   "metadata": {},
   "outputs": [
    {
     "name": "stdout",
     "output_type": "stream",
     "text": [
      "Enter the radius of Circle 3\n",
      "Area of circle is :  28.274309999999996\n"
     ]
    }
   ],
   "source": [
    "#1. Area of Circle\n",
    "\n",
    "val=float(input('Enter the radius of Circle '))\n",
    "area=3.14159*val*val\n",
    "print('Area of circle is : ', area)"
   ]
  },
  {
   "cell_type": "code",
   "execution_count": 7,
   "metadata": {},
   "outputs": [
    {
     "name": "stdout",
     "output_type": "stream",
     "text": [
      "Enter your number : 8\n",
      "Number is Positive\n"
     ]
    }
   ],
   "source": [
    "#2. Check whether number is Positive,Negative or Zero\n",
    "# Program Console Sample Output 1:\n",
    "a= int(input('Enter your number : '))\n",
    "if a > 0:\n",
    "    print('Number is Positive')\n",
    "elif a < 0:\n",
    "    print('Number is Negative')\n",
    "else:\n",
    "    print('Number is Zero')"
   ]
  },
  {
   "cell_type": "code",
   "execution_count": 8,
   "metadata": {},
   "outputs": [
    {
     "name": "stdout",
     "output_type": "stream",
     "text": [
      "Enter your number : -8\n",
      "Number is Negative\n"
     ]
    }
   ],
   "source": [
    "#Check whether number is Positive,Negative or Zero\n",
    "# Program Console Sample Output 2:\n",
    "a= int(input('Enter your number : '))\n",
    "if a > 0:\n",
    "    print('Number is Positive')\n",
    "elif a < 0:\n",
    "    print('Number is Negative')\n",
    "else:\n",
    "    print('Number is Zero')"
   ]
  },
  {
   "cell_type": "code",
   "execution_count": 9,
   "metadata": {},
   "outputs": [
    {
     "name": "stdout",
     "output_type": "stream",
     "text": [
      "Enter your number : 0\n",
      "Number is Zero\n"
     ]
    }
   ],
   "source": [
    "#Check whether number is Positive,Negative or Zero\n",
    "# Program Console Sample Output 3:\n",
    "a= int(input('Enter your number : '))\n",
    "if a > 0:\n",
    "    print('Number is Positive')\n",
    "elif a < 0:\n",
    "    print('Number is Negative')\n",
    "else:\n",
    "    print('Number is Zero')"
   ]
  },
  {
   "cell_type": "code",
   "execution_count": 12,
   "metadata": {
    "scrolled": true
   },
   "outputs": [
    {
     "name": "stdout",
     "output_type": "stream",
     "text": [
      "Enter First Number 456\n",
      "Enter Second Number 4\n",
      "Number  456 is completely divided by  4\n"
     ]
    }
   ],
   "source": [
    "#3. Division of two Numbers\n",
    "# Program Console Sample Output 1:\n",
    "a=int(input(\"Enter First Number \"))\n",
    "b=int(input(\"Enter Second Number \"))\n",
    "\n",
    "if a%b == 0:\n",
    "    print('Number ', a , 'is completely divided by ', b)\n",
    "else:\n",
    "    print('Number ', a , 'is not completely divided by ', b)"
   ]
  },
  {
   "cell_type": "code",
   "execution_count": 13,
   "metadata": {
    "scrolled": true
   },
   "outputs": [
    {
     "name": "stdout",
     "output_type": "stream",
     "text": [
      "Enter First Number 35\n",
      "Enter Second Number 4\n",
      "Number  35 is not completely divided by  4\n"
     ]
    }
   ],
   "source": [
    "# Division of two Numbers\n",
    "# Program Console Sample Output 2:\n",
    "a=int(input(\"Enter First Number \"))\n",
    "b=int(input(\"Enter Second Number \"))\n",
    "\n",
    "if a%b != 0:\n",
    "    print('Number ', a , 'is not completely divided by ', b)"
   ]
  },
  {
   "cell_type": "code",
   "execution_count": 2,
   "metadata": {},
   "outputs": [
    {
     "name": "stdout",
     "output_type": "stream",
     "text": [
      "Enter a date in (dd/mm/yy) format: 2/1/2010\n",
      "Enter a date in (dd/mm/yy) format: 18/1/2010\n",
      "There are 16 days in between 2/1/2010 and 18/1/2010\n"
     ]
    }
   ],
   "source": [
    "# 4. Days Calculator\n",
    "# Program Console Sample Output 1:\n",
    "\n",
    "from datetime import datetime\n",
    "date_format = \"%d/%m/%Y\"\n",
    "a = input(\"Enter a date in (dd/mm/yy) format: \")\n",
    "b = input(\"Enter a date in (dd/mm/yy) format: \")\n",
    "c = datetime.strptime( a , date_format)\n",
    "d = datetime.strptime( b , date_format)\n",
    "change = d - c\n",
    "print (\"There are\", change.days, \"days in between\", a , \"and\" , b)"
   ]
  },
  {
   "cell_type": "code",
   "execution_count": 3,
   "metadata": {},
   "outputs": [
    {
     "name": "stdout",
     "output_type": "stream",
     "text": [
      "Enter Radius of Sphere1\n",
      "Volume of Sphere of  1 is :  4.189333333333333\n"
     ]
    }
   ],
   "source": [
    "#5. Volume of Sphere\n",
    "\n",
    "val=int(input('Enter Radius of Sphere'))\n",
    "rad= 4/3*3.142*val*val*val\n",
    "print('Volume of Sphere of ',val, 'is : ',rad)\n"
   ]
  },
  {
   "cell_type": "code",
   "execution_count": 8,
   "metadata": {},
   "outputs": [
    {
     "name": "stdout",
     "output_type": "stream",
     "text": [
      "Enter Your String Athar\n",
      "Enter how many copies do you want ? 5\n",
      "5 Copies of  Athar  are :  AtharAtharAtharAtharAthar\n"
     ]
    }
   ],
   "source": [
    "#6. Copy String N Times\n",
    "# Program Console Sample Output 1:\n",
    "\n",
    "a=str(input('Enter Your String '))\n",
    "n=int(input('Enter how many copies do you want ? '))\n",
    "\n",
    "if n>0:\n",
    "    print(n, 'Copies of ', a , ' are : ' , a*n)\n",
    "else:\n",
    "    print('Enter a valid number of copies')"
   ]
  },
  {
   "cell_type": "code",
   "execution_count": 9,
   "metadata": {},
   "outputs": [
    {
     "name": "stdout",
     "output_type": "stream",
     "text": [
      "Enter Your String Test\n",
      "Enter how many copies do you want ? -9\n",
      "Enter a valid number of copies\n"
     ]
    }
   ],
   "source": [
    "#6. Copy String N Times\n",
    "# Program Console Sample Output 2:\n",
    "\n",
    "a=str(input('Enter Your String '))\n",
    "n=int(input('Enter how many copies do you want ? '))\n",
    "if n>0:\n",
    "    print(n, 'Copies of ', a , ' are : ' , a*n)\n",
    "else:\n",
    "    print('Enter a valid number of copies')\n"
   ]
  },
  {
   "cell_type": "code",
   "execution_count": 10,
   "metadata": {},
   "outputs": [
    {
     "name": "stdout",
     "output_type": "stream",
     "text": [
      "Enter Your Number 6\n",
      "Number  6 is an Even Number\n"
     ]
    }
   ],
   "source": [
    "#7. Check if number is even or odd\n",
    "# Program Console Sample Output 1:\n",
    "\n",
    "a=int(input(\"Enter Your Number \"))\n",
    "\n",
    "if a%2 == 0:\n",
    "    print('Number ', a , 'is an Even Number')\n",
    "else:\n",
    "    print('Number ', a , 'is an Odd Number')"
   ]
  },
  {
   "cell_type": "code",
   "execution_count": 11,
   "metadata": {},
   "outputs": [
    {
     "name": "stdout",
     "output_type": "stream",
     "text": [
      "Enter Your Number 87\n",
      "Number  87 is an Odd Number\n"
     ]
    }
   ],
   "source": [
    "#7. Check if number is even or odd\n",
    "# Program Console Sample Output 2:\n",
    "\n",
    "a=int(input(\"Enter Your Number \"))\n",
    "\n",
    "if a%2 == 0:\n",
    "    print('Number ', a , 'is an Even Number')\n",
    "else:\n",
    "    print('Number ', a , 'is an Odd Number')"
   ]
  },
  {
   "cell_type": "code",
   "execution_count": 12,
   "metadata": {},
   "outputs": [
    {
     "name": "stdout",
     "output_type": "stream",
     "text": [
      "Enter your letter: A\n",
      "Letter A is Vowel.\n"
     ]
    }
   ],
   "source": [
    "#8. Vowel Tester\n",
    "# Program Console Sample Output 1:\n",
    "\n",
    "a = input(\"Enter your letter: \")\n",
    "\n",
    "if a in ('a', 'A', 'e', 'E', 'i', 'I', 'o', 'O', 'u', 'U'):\n",
    "    print(\"Letter\", a, \"is Vowel.\")\n",
    "else:\n",
    "    print(\"Letter\", a, \"is not Vowel.\")"
   ]
  },
  {
   "cell_type": "code",
   "execution_count": 13,
   "metadata": {},
   "outputs": [
    {
     "name": "stdout",
     "output_type": "stream",
     "text": [
      "Enter your letter: e\n",
      "Letter e is Vowel.\n"
     ]
    }
   ],
   "source": [
    "#8. Vowel Tester\n",
    "# Program Console Sample Output 2:\n",
    "\n",
    "a = input(\"Enter your letter: \")\n",
    "\n",
    "if a in ('a', 'A', 'e', 'E', 'i', 'I', 'o', 'O', 'u', 'U'):\n",
    "    print(\"Letter\", a, \"is Vowel.\")\n",
    "else:\n",
    "    print(\"Letter\", a, \"is not Vowel.\")"
   ]
  },
  {
   "cell_type": "code",
   "execution_count": 14,
   "metadata": {},
   "outputs": [
    {
     "name": "stdout",
     "output_type": "stream",
     "text": [
      "Enter your letter: n\n",
      "Letter n is not Vowel.\n"
     ]
    }
   ],
   "source": [
    "#8. Vowel Tester\n",
    "# Program Console Sample Output 3:\n",
    "\n",
    "a = input(\"Enter your letter: \")\n",
    "\n",
    "if a in ('a', 'A', 'e', 'E', 'i', 'I', 'o', 'O', 'u', 'U'):\n",
    "    print(\"Letter\", a, \"is Vowel.\")\n",
    "else:\n",
    "    print(\"Letter\", a, \"is not Vowel.\")"
   ]
  },
  {
   "cell_type": "code",
   "execution_count": 15,
   "metadata": {},
   "outputs": [
    {
     "name": "stdout",
     "output_type": "stream",
     "text": [
      "Enter base of Triangle6\n",
      "Enter height of Triangle6\n",
      "The area of triangle will be  18.0  if base is  6  & height is  6\n"
     ]
    }
   ],
   "source": [
    "# 9. Triangle area\n",
    "\n",
    "base=int(input('Enter base of Triangle'))\n",
    "height=int(input('Enter height of Triangle'))\n",
    "\n",
    "Tri=(base*height)/2\n",
    "\n",
    "print('The area of triangle will be ',Tri, ' if base is ',base , ' & height is ', height)"
   ]
  },
  {
   "cell_type": "code",
   "execution_count": 17,
   "metadata": {},
   "outputs": [
    {
     "name": "stdout",
     "output_type": "stream",
     "text": [
      "Please enter principal amount: 10000\n",
      "Please Enter Rate of interest in %: 0.1\n",
      "Enter number of years for investment: 10\n",
      "After 10 years your principal amount 10000 over an interest rate of 0.1 % will be 25937.424601000006\n"
     ]
    }
   ],
   "source": [
    "# 10. Calculate Interest\n",
    "\n",
    "principal = int(input(\"Please enter principal amount: \"))\n",
    "rate = float(input(\"Please Enter Rate of interest in %: \"))\n",
    "years = int(input(\"Enter number of years for investment: \"))\n",
    "d = 0\n",
    "total = principal * rate * 10\n",
    "while d < years:\n",
    "    total += total * rate\n",
    "    d += 1\n",
    "    \n",
    "print(\"After\",years,\"years your principal amount\",principal,\"over an interest rate of\",rate,\"% will be\",total)"
   ]
  },
  {
   "cell_type": "code",
   "execution_count": 22,
   "metadata": {},
   "outputs": [
    {
     "name": "stdout",
     "output_type": "stream",
     "text": [
      "Enter Cordinate for x1: 2\n",
      "Enter Cordinate for x2: 3\n",
      "Enter Cordinate for y1: 5\n",
      "Enter Cordinate for y2: 6\n",
      "The distance between point ( 2 , 5 ) and ( 3 , 6 ) is  1\n"
     ]
    }
   ],
   "source": [
    "# 11. Euclidean Distance\n",
    "\n",
    "import math\n",
    "x1=int(input('Enter Cordinate for x1: '))\n",
    "x2=int(input('Enter Cordinate for x2: '))\n",
    "y1=int(input('Enter Cordinate for y1: '))\n",
    "y2=int(input('Enter Cordinate for y2: '))\n",
    "\n",
    "distance=(x1-x2)*(x1-x2)+(y1-y2)*(y1-y2)\n",
    "rou=int(math.sqrt(distance))\n",
    "print('The distance between point (',x1,',',y1,') and (',x2,',',y2,') is ',(rou))"
   ]
  },
  {
   "cell_type": "code",
   "execution_count": 23,
   "metadata": {},
   "outputs": [
    {
     "name": "stdout",
     "output_type": "stream",
     "text": [
      "Enter Height in Feet: 5\n",
      "There are 152.4 Centimeters in 5 feets\n"
     ]
    }
   ],
   "source": [
    "# 12. Feet to Centimeter Converter\n",
    "\n",
    "\n",
    "heightInFeet= float(input(\"Enter Height in Feet: \"))\n",
    "heightInCenti= float(heightInFeet) * 30.48\n",
    "\n",
    "print(\"There are\",heightInCenti,\"Centimeters in\",(heightInFeet),\"feets\")"
   ]
  },
  {
   "cell_type": "code",
   "execution_count": 24,
   "metadata": {},
   "outputs": [
    {
     "name": "stdout",
     "output_type": "stream",
     "text": [
      "Enter Height in Centimeter (cm): 180\n",
      "Enter Weight in Kilograms: (kg): 60\n",
      "The Approximate BMI is  18.51851851851852\n"
     ]
    }
   ],
   "source": [
    "# 13. BMI Calculator\n",
    "\n",
    "height = float(input(\"Enter Height in Centimeter (cm): \"))\n",
    "weight = float(input(\"Enter Weight in Kilograms: (kg): \"))\n",
    "val = height * 0.01\n",
    "bmi = weight / (val * val)\n",
    "print(\"The Approximate BMI is \",bmi)"
   ]
  },
  {
   "cell_type": "code",
   "execution_count": 29,
   "metadata": {},
   "outputs": [
    {
     "name": "stdout",
     "output_type": "stream",
     "text": [
      "Enter value of n: 7\n",
      "Sum of n Positive integers upto  7  is  28\n"
     ]
    }
   ],
   "source": [
    "# 14. Sum of n Positive Integers\n",
    "\n",
    "n = int(input(\"Enter value of n: \"))\n",
    "Sum = int((n * (n + 1)) / 2)\n",
    "print(\"Sum of n Positive integers upto \",n,\" is \",(Sum))"
   ]
  },
  {
   "cell_type": "code",
   "execution_count": 30,
   "metadata": {},
   "outputs": [
    {
     "name": "stdout",
     "output_type": "stream",
     "text": [
      "Enter a number: 97601\n",
      "Sum of 9 + 7 + 6 + 0 + 1 is 23\n"
     ]
    }
   ],
   "source": [
    "# 15. Digits Sum of a Number\n",
    "\n",
    "num = str(input(\"Enter a number: \"))\n",
    "x = 0 \n",
    "for y in num:\n",
    "    x += int(y)\n",
    "print(\"Sum of\", ' + '.join(map(str,num)) ,\"is\",x)"
   ]
  },
  {
   "cell_type": "code",
   "execution_count": 32,
   "metadata": {},
   "outputs": [
    {
     "name": "stdout",
     "output_type": "stream",
     "text": [
      "Enter a decimal number: 5\n",
      "Binary Reperesentation of Decimal Number  5  is  101\n"
     ]
    }
   ],
   "source": [
    "# 16. Decimal to Binary Converter\n",
    "# Program Console Sample Output 1:\n",
    "\n",
    "deci = int(input(\"Enter a decimal number: \"))\n",
    "ans = bin(deci)\n",
    "print(\"Binary Reperesentation of Decimal Number \",deci,\" is \",ans[2:])"
   ]
  },
  {
   "cell_type": "code",
   "execution_count": 33,
   "metadata": {},
   "outputs": [
    {
     "name": "stdout",
     "output_type": "stream",
     "text": [
      "Enter a decimal number: 32\n",
      "Binary Reperesentation of Decimal Number  32  is  100000\n"
     ]
    }
   ],
   "source": [
    "# 16. Decimal to Binary Converter\n",
    "# Program Console Sample Output 2:\n",
    "\n",
    "deci = int(input(\"Enter a decimal number: \"))\n",
    "ans = bin(deci)\n",
    "print(\"Binary Reperesentation of Decimal Number \",deci,\" is \",ans[2:])"
   ]
  },
  {
   "cell_type": "code",
   "execution_count": 38,
   "metadata": {},
   "outputs": [
    {
     "name": "stdout",
     "output_type": "stream",
     "text": [
      "Enter a binary number: 1001\n",
      "Binary Reperesentation of Decimal Number  1001  is  9\n"
     ]
    }
   ],
   "source": [
    "# 17. Binary to Decimal Converter\n",
    "# Program Console Sample Output 1:\n",
    "\n",
    "binary = input(\"Enter a binary number: \")\n",
    "ans = int(binary,2)\n",
    "print(\"Binary Reperesentation of Decimal Number \",binary,\" is \",ans)"
   ]
  },
  {
   "cell_type": "code",
   "execution_count": 39,
   "metadata": {},
   "outputs": [
    {
     "name": "stdout",
     "output_type": "stream",
     "text": [
      "Enter a binary number: 1101\n",
      "Binary Reperesentation of Decimal Number  1101  is  13\n"
     ]
    }
   ],
   "source": [
    "# 17. Binary to Decimal Converter\n",
    "# Program Console Sample Output 2:\n",
    "\n",
    "binary = input(\"Enter a binary number: \")\n",
    "ans = int(binary,2)\n",
    "print(\"Binary Reperesentation of Decimal Number \",binary,\" is \",ans)"
   ]
  },
  {
   "cell_type": "code",
   "execution_count": 40,
   "metadata": {},
   "outputs": [
    {
     "name": "stdout",
     "output_type": "stream",
     "text": [
      "Enter your Text: My name is Syed Muhammad Athar Zaib\n",
      "\n",
      "Vowels: 11\n",
      "Consonants: 24\n"
     ]
    }
   ],
   "source": [
    "# 18. Vowel and Consonants Counter\n",
    "\n",
    "string = input(\"Enter your Text: \")\n",
    "vowels = 0\n",
    "consonants = 0\n",
    "\n",
    "for i in string:\n",
    "    if(i == 'a' or i == 'e' or i == 'i' or i == 'o' or i == 'u'\n",
    "       or i == 'A' or i == 'E' or i == 'I' or i == 'O' or i == 'U'):\n",
    "        vowels = vowels + 1\n",
    "    else:\n",
    "        consonants = consonants + 1\n",
    "\n",
    "print()\n",
    "print(\"Vowels:\",vowels)\n",
    "print(\"Consonants:\",consonants)"
   ]
  },
  {
   "cell_type": "code",
   "execution_count": 44,
   "metadata": {},
   "outputs": [
    {
     "name": "stdout",
     "output_type": "stream",
     "text": [
      "Enter text: Level\n",
      "Text level is a palindrome\n"
     ]
    }
   ],
   "source": [
    "# 19. Palindrome tester\n",
    "# Program Console Sample Output 1:\n",
    "\n",
    "string = input(\"Enter text: \")\n",
    "string = string.casefold()\n",
    "reverse = reversed(string)\n",
    "\n",
    "if list(string) == list(reverse):\n",
    "    print(\"Text\",string,\"is a palindrome\")\n",
    "else:\n",
    "   print(\"Text\",string,\"It is not a palindrome\")"
   ]
  },
  {
   "cell_type": "code",
   "execution_count": 46,
   "metadata": {},
   "outputs": [
    {
     "name": "stdout",
     "output_type": "stream",
     "text": [
      "Enter text: school\n",
      "Text school is not a palindrome\n"
     ]
    }
   ],
   "source": [
    "# 19. Palindrome tester\n",
    "# Program Console Sample Output 2:\n",
    "\n",
    "string = input(\"Enter text: \")\n",
    "string = string.casefold()\n",
    "reverse = reversed(string)\n",
    "if list(string) == list(reverse):\n",
    "   print(\"Text\",string,\"is a palindrome\")\n",
    "else:\n",
    "   print(\"Text\",string,\"is not a palindrome\")"
   ]
  },
  {
   "cell_type": "code",
   "execution_count": 48,
   "metadata": {},
   "outputs": [
    {
     "name": "stdout",
     "output_type": "stream",
     "text": [
      "Enter your string : My name is Syed Muhammad Athar zaib and i am 23 years old !\n",
      "Numbers = 2\n",
      "Alphabets = 43\n",
      "Special Characters = 1\n",
      "Spaces = 13\n"
     ]
    }
   ],
   "source": [
    "# 20. Count Alphabets, Numbers and Special Characters\n",
    "\n",
    "string = input(\"Enter your string : \")\n",
    "a = 0\n",
    "b = 0\n",
    "c = 0\n",
    "d = 0\n",
    "for x in string:\n",
    "    if int(ord(x)) >= 65 and int(ord(x)) <= 122:\n",
    "        a += 1\n",
    "    elif int(ord(x)) >= 48 and int(ord(x)) <= 57:\n",
    "        b += 1\n",
    "    elif x == \" \":\n",
    "        d += 1\n",
    "    else:\n",
    "        c += 1\n",
    "print(\"Numbers =\",b)\n",
    "print(\"Alphabets =\",a)\n",
    "print(\"Special Characters =\",c)\n",
    "print(\"Spaces =\",d)"
   ]
  },
  {
   "cell_type": "code",
   "execution_count": 49,
   "metadata": {},
   "outputs": [
    {
     "name": "stdout",
     "output_type": "stream",
     "text": [
      "\n",
      "^ \n",
      "^ ^ \n",
      "^ ^ ^ \n",
      "^ ^ ^ ^ \n",
      "^ ^ ^ ^ ^ \n",
      "^ ^ ^ ^ \n",
      "^ ^ ^ \n",
      "^ ^ \n",
      "^ \n"
     ]
    }
   ],
   "source": [
    "# 21. Write a Python program to construct the following pattern\n",
    "\n",
    "n=5;\n",
    "for i in range(n):\n",
    "    for j in range(i):\n",
    "        print ('^ ', end=\"\")\n",
    "    print('')\n",
    "\n",
    "for i in range(n,0,-1):\n",
    "    for j in range(i):\n",
    "        print('^ ', end=\"\")\n",
    "    print('')"
   ]
  },
  {
   "cell_type": "code",
   "execution_count": 52,
   "metadata": {},
   "outputs": [
    {
     "name": "stdout",
     "output_type": "stream",
     "text": [
      "\n",
      "* \n",
      "* * \n",
      "* * * \n",
      "* * * * \n",
      "* * * * * \n",
      "* * * * \n",
      "* * * \n",
      "* * \n",
      "* \n"
     ]
    }
   ],
   "source": [
    "# 21. Write a Python program to construct the following pattern\n",
    "\n",
    "n=5;\n",
    "for i in range(n):\n",
    "    for j in range(i):\n",
    "        print ('* ', end=\"\")\n",
    "    print('')\n",
    "\n",
    "for i in range(n,0,-1):\n",
    "    for j in range(i):\n",
    "        print('* ', end=\"\")\n",
    "    print('')"
   ]
  },
  {
   "cell_type": "code",
   "execution_count": 54,
   "metadata": {},
   "outputs": [
    {
     "name": "stdout",
     "output_type": "stream",
     "text": [
      "1\n",
      "12\n",
      "123\n",
      "1234\n",
      "12345\n",
      "1234\n",
      "123\n",
      "12\n",
      "1\n",
      "\n"
     ]
    }
   ],
   "source": [
    "# 22. Write a Python program to construct the following pattern\n",
    "\n",
    "string = \"12345\"\n",
    "x = 0\n",
    "\n",
    "for i in string:\n",
    "    x = x + 1\n",
    "    print(string[0:x])\n",
    "\n",
    "for i in string:\n",
    "    x = x - 1\n",
    "    print(string[0:x])"
   ]
  },
  {
   "cell_type": "code",
   "execution_count": 56,
   "metadata": {},
   "outputs": [
    {
     "name": "stdout",
     "output_type": "stream",
     "text": [
      "a\n",
      "ab\n",
      "abc\n",
      "abcd\n",
      "abcde\n",
      "abcdef\n",
      "abcde\n",
      "abcd\n",
      "abc\n",
      "ab\n",
      "a\n",
      "\n"
     ]
    }
   ],
   "source": [
    "# 22. Write a Python program to construct the following pattern\n",
    "\n",
    "string = \"abcdef\"\n",
    "x = 0\n",
    "\n",
    "for i in string:\n",
    "    x = x + 1\n",
    "    print(string[0:x])\n",
    "\n",
    "for i in string:\n",
    "    x = x - 1\n",
    "    print(string[0:x])"
   ]
  },
  {
   "cell_type": "code",
   "execution_count": 57,
   "metadata": {},
   "outputs": [
    {
     "name": "stdout",
     "output_type": "stream",
     "text": [
      "\n",
      "1\n",
      "22\n",
      "333\n",
      "4444\n",
      "55555\n",
      "666666\n",
      "7777777\n",
      "88888888\n",
      "999999999\n"
     ]
    }
   ],
   "source": [
    "# 23. Write a Python program to construct the following pattern\n",
    "\n",
    "for i in range(10):\n",
    "    print(str(i) * i)"
   ]
  },
  {
   "cell_type": "code",
   "execution_count": null,
   "metadata": {},
   "outputs": [],
   "source": []
  }
 ],
 "metadata": {
  "kernelspec": {
   "display_name": "Python 3",
   "language": "python",
   "name": "python3"
  },
  "language_info": {
   "codemirror_mode": {
    "name": "ipython",
    "version": 3
   },
   "file_extension": ".py",
   "mimetype": "text/x-python",
   "name": "python",
   "nbconvert_exporter": "python",
   "pygments_lexer": "ipython3",
   "version": "3.7.3"
  }
 },
 "nbformat": 4,
 "nbformat_minor": 2
}
